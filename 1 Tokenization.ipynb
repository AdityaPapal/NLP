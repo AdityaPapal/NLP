{
 "cells": [
  {
   "cell_type": "code",
   "execution_count": 1,
   "id": "28b1fc72-378d-4e22-8d2e-b0ed7d9fb8a2",
   "metadata": {},
   "outputs": [],
   "source": [
    "# Tokenization   "
   ]
  },
  {
   "cell_type": "code",
   "execution_count": 14,
   "id": "4b1fdedb-f46e-4fb6-aac1-b483e1cb7e69",
   "metadata": {},
   "outputs": [],
   "source": [
    "corpus = \"\"\"  Hello welecom, I'm Aditya Papal start learning NLP first time. As beginner Im watching krish naik's playlist.\n",
    "I also done with all concepts in machine learning, after learning NLP I learn Deep learning concepts.\n",
    "Im try my best hopefully all of this knowlage is enough for campus placement selection\n",
    "! Thank you.\n",
    "\"\"\""
   ]
  },
  {
   "cell_type": "code",
   "execution_count": 16,
   "id": "ecc28b94-f8ae-4ec4-81c0-286252092561",
   "metadata": {},
   "outputs": [
    {
     "name": "stdout",
     "output_type": "stream",
     "text": [
      "  Hello welecom, I'm Aditya Papal start learning NLP first time. As beginner Im watching krish naik's playlist.\n",
      "I also done with all concepts in machine learning, after learning NLP I learn Deep learning concepts.\n",
      "Im try my best hopefully all of this knowlage is enough for campus placement selection\n",
      "! Thank you.\n",
      "\n"
     ]
    }
   ],
   "source": [
    "print(corpus)"
   ]
  },
  {
   "cell_type": "code",
   "execution_count": 18,
   "id": "6f05dc59-3f2c-44b3-a51a-694f0dfafe79",
   "metadata": {},
   "outputs": [],
   "source": [
    "from nltk.tokenize import sent_tokenize"
   ]
  },
  {
   "cell_type": "code",
   "execution_count": 28,
   "id": "1ac4fdee-fc60-439d-b075-b01eeaa56461",
   "metadata": {},
   "outputs": [],
   "source": [
    "doccument = sent_tokenize(corpus)"
   ]
  },
  {
   "cell_type": "code",
   "execution_count": 30,
   "id": "28b3d8a5-f96f-4f9e-a7ac-5b072e82d4d2",
   "metadata": {},
   "outputs": [
    {
     "data": {
      "text/plain": [
       "list"
      ]
     },
     "execution_count": 30,
     "metadata": {},
     "output_type": "execute_result"
    }
   ],
   "source": [
    "type(doccument)"
   ]
  },
  {
   "cell_type": "code",
   "execution_count": 37,
   "id": "f56d29d2-4140-4e95-b042-16a666a5b0d2",
   "metadata": {},
   "outputs": [
    {
     "name": "stdout",
     "output_type": "stream",
     "text": [
      "  Hello welecom, I'm Aditya Papal start learning NLP first time.\n",
      "As beginner Im watching krish naik's playlist.\n",
      "I also done with all concepts in machine learning, after learning NLP I learn Deep learning concepts.\n",
      "Im try my best hopefully all of this knowlage is enough for campus placement selection\n",
      "!\n",
      "Thank you.\n"
     ]
    }
   ],
   "source": [
    "for sentences in doccument:\n",
    "    print(sentences)"
   ]
  },
  {
   "cell_type": "code",
   "execution_count": 39,
   "id": "c7ca6805-e868-4392-ba6e-8a1570ff9833",
   "metadata": {},
   "outputs": [],
   "source": [
    "from nltk import word_tokenize"
   ]
  },
  {
   "cell_type": "code",
   "execution_count": 41,
   "id": "c75bbcbd-e2a5-45db-8f03-ffd755b6b9e4",
   "metadata": {},
   "outputs": [],
   "source": [
    "words = word_tokenize(corpus)"
   ]
  },
  {
   "cell_type": "code",
   "execution_count": 43,
   "id": "25f55e2e-50bb-4b9b-b294-0748157dece1",
   "metadata": {},
   "outputs": [
    {
     "data": {
      "text/plain": [
       "['Hello',\n",
       " 'welecom',\n",
       " ',',\n",
       " 'I',\n",
       " \"'m\",\n",
       " 'Aditya',\n",
       " 'Papal',\n",
       " 'start',\n",
       " 'learning',\n",
       " 'NLP',\n",
       " 'first',\n",
       " 'time',\n",
       " '.',\n",
       " 'As',\n",
       " 'beginner',\n",
       " 'Im',\n",
       " 'watching',\n",
       " 'krish',\n",
       " 'naik',\n",
       " \"'s\",\n",
       " 'playlist',\n",
       " '.',\n",
       " 'I',\n",
       " 'also',\n",
       " 'done',\n",
       " 'with',\n",
       " 'all',\n",
       " 'concepts',\n",
       " 'in',\n",
       " 'machine',\n",
       " 'learning',\n",
       " ',',\n",
       " 'after',\n",
       " 'learning',\n",
       " 'NLP',\n",
       " 'I',\n",
       " 'learn',\n",
       " 'Deep',\n",
       " 'learning',\n",
       " 'concepts',\n",
       " '.',\n",
       " 'Im',\n",
       " 'try',\n",
       " 'my',\n",
       " 'best',\n",
       " 'hopefully',\n",
       " 'all',\n",
       " 'of',\n",
       " 'this',\n",
       " 'knowlage',\n",
       " 'is',\n",
       " 'enough',\n",
       " 'for',\n",
       " 'campus',\n",
       " 'placement',\n",
       " 'selection',\n",
       " '!',\n",
       " 'Thank',\n",
       " 'you',\n",
       " '.']"
      ]
     },
     "execution_count": 43,
     "metadata": {},
     "output_type": "execute_result"
    }
   ],
   "source": [
    "words"
   ]
  },
  {
   "cell_type": "code",
   "execution_count": 45,
   "id": "9dd4932d-fc01-4d25-8200-4ebafd7b155e",
   "metadata": {},
   "outputs": [
    {
     "data": {
      "text/plain": [
       "60"
      ]
     },
     "execution_count": 45,
     "metadata": {},
     "output_type": "execute_result"
    }
   ],
   "source": [
    "len(words)"
   ]
  },
  {
   "cell_type": "code",
   "execution_count": 47,
   "id": "e906b87b-7bf6-4ff1-a750-dc97e62bbd08",
   "metadata": {},
   "outputs": [
    {
     "data": {
      "text/plain": [
       "list"
      ]
     },
     "execution_count": 47,
     "metadata": {},
     "output_type": "execute_result"
    }
   ],
   "source": [
    "type(words)"
   ]
  },
  {
   "cell_type": "code",
   "execution_count": 49,
   "id": "5d2777e7-0ee5-4453-b7c3-b1446e02818e",
   "metadata": {},
   "outputs": [],
   "source": [
    "from nltk import wordpunct_tokenize"
   ]
  },
  {
   "cell_type": "code",
   "execution_count": 51,
   "id": "43457b50-d3c3-4338-92f8-5914281c30e8",
   "metadata": {},
   "outputs": [],
   "source": [
    "word_puncucation = wordpunct_tokenize(corpus)"
   ]
  },
  {
   "cell_type": "code",
   "execution_count": 53,
   "id": "91acef04-b10b-4386-9dd6-abd0e535069d",
   "metadata": {},
   "outputs": [
    {
     "data": {
      "text/plain": [
       "['Hello',\n",
       " 'welecom',\n",
       " ',',\n",
       " 'I',\n",
       " \"'\",\n",
       " 'm',\n",
       " 'Aditya',\n",
       " 'Papal',\n",
       " 'start',\n",
       " 'learning',\n",
       " 'NLP',\n",
       " 'first',\n",
       " 'time',\n",
       " '.',\n",
       " 'As',\n",
       " 'beginner',\n",
       " 'Im',\n",
       " 'watching',\n",
       " 'krish',\n",
       " 'naik',\n",
       " \"'\",\n",
       " 's',\n",
       " 'playlist',\n",
       " '.',\n",
       " 'I',\n",
       " 'also',\n",
       " 'done',\n",
       " 'with',\n",
       " 'all',\n",
       " 'concepts',\n",
       " 'in',\n",
       " 'machine',\n",
       " 'learning',\n",
       " ',',\n",
       " 'after',\n",
       " 'learning',\n",
       " 'NLP',\n",
       " 'I',\n",
       " 'learn',\n",
       " 'Deep',\n",
       " 'learning',\n",
       " 'concepts',\n",
       " '.',\n",
       " 'Im',\n",
       " 'try',\n",
       " 'my',\n",
       " 'best',\n",
       " 'hopefully',\n",
       " 'all',\n",
       " 'of',\n",
       " 'this',\n",
       " 'knowlage',\n",
       " 'is',\n",
       " 'enough',\n",
       " 'for',\n",
       " 'campus',\n",
       " 'placement',\n",
       " 'selection',\n",
       " '!',\n",
       " 'Thank',\n",
       " 'you',\n",
       " '.']"
      ]
     },
     "execution_count": 53,
     "metadata": {},
     "output_type": "execute_result"
    }
   ],
   "source": [
    "word_puncucation"
   ]
  },
  {
   "cell_type": "code",
   "execution_count": 55,
   "id": "9f544dd8-cf30-4b98-97eb-cefaf2cf5632",
   "metadata": {},
   "outputs": [
    {
     "data": {
      "text/plain": [
       "62"
      ]
     },
     "execution_count": 55,
     "metadata": {},
     "output_type": "execute_result"
    }
   ],
   "source": [
    "len(word_puncucation)"
   ]
  },
  {
   "cell_type": "code",
   "execution_count": 57,
   "id": "db7ada0b-61cd-4f2c-a687-4a35071214f6",
   "metadata": {},
   "outputs": [],
   "source": [
    "from nltk import TreebankWordTokenizer"
   ]
  },
  {
   "cell_type": "code",
   "execution_count": 59,
   "id": "775e6bae-1167-4e80-acc3-bcecb3f401bb",
   "metadata": {},
   "outputs": [],
   "source": [
    "tokenizer = TreebankWordTokenizer()"
   ]
  },
  {
   "cell_type": "code",
   "execution_count": 61,
   "id": "45d41458-4e3c-49a4-8be4-f803376d4fbd",
   "metadata": {},
   "outputs": [],
   "source": [
    "word_fullstop = tokenizer.tokenize(corpus)"
   ]
  },
  {
   "cell_type": "code",
   "execution_count": 63,
   "id": "33fa4ec6-48cd-45f9-be69-2222b8df8523",
   "metadata": {},
   "outputs": [
    {
     "data": {
      "text/plain": [
       "['Hello',\n",
       " 'welecom',\n",
       " ',',\n",
       " 'I',\n",
       " \"'m\",\n",
       " 'Aditya',\n",
       " 'Papal',\n",
       " 'start',\n",
       " 'learning',\n",
       " 'NLP',\n",
       " 'first',\n",
       " 'time.',\n",
       " 'As',\n",
       " 'beginner',\n",
       " 'Im',\n",
       " 'watching',\n",
       " 'krish',\n",
       " 'naik',\n",
       " \"'s\",\n",
       " 'playlist.',\n",
       " 'I',\n",
       " 'also',\n",
       " 'done',\n",
       " 'with',\n",
       " 'all',\n",
       " 'concepts',\n",
       " 'in',\n",
       " 'machine',\n",
       " 'learning',\n",
       " ',',\n",
       " 'after',\n",
       " 'learning',\n",
       " 'NLP',\n",
       " 'I',\n",
       " 'learn',\n",
       " 'Deep',\n",
       " 'learning',\n",
       " 'concepts.',\n",
       " 'Im',\n",
       " 'try',\n",
       " 'my',\n",
       " 'best',\n",
       " 'hopefully',\n",
       " 'all',\n",
       " 'of',\n",
       " 'this',\n",
       " 'knowlage',\n",
       " 'is',\n",
       " 'enough',\n",
       " 'for',\n",
       " 'campus',\n",
       " 'placement',\n",
       " 'selection',\n",
       " '!',\n",
       " 'Thank',\n",
       " 'you',\n",
       " '.']"
      ]
     },
     "execution_count": 63,
     "metadata": {},
     "output_type": "execute_result"
    }
   ],
   "source": [
    "word_fullstop"
   ]
  },
  {
   "cell_type": "code",
   "execution_count": 65,
   "id": "104124ad-5d07-4727-a8d2-93589d734b1a",
   "metadata": {},
   "outputs": [
    {
     "data": {
      "text/plain": [
       "57"
      ]
     },
     "execution_count": 65,
     "metadata": {},
     "output_type": "execute_result"
    }
   ],
   "source": [
    "len(word_fullstop)"
   ]
  },
  {
   "cell_type": "code",
   "execution_count": null,
   "id": "5269e72d-c468-48ff-a66e-53fb26e67186",
   "metadata": {},
   "outputs": [],
   "source": []
  }
 ],
 "metadata": {
  "kernelspec": {
   "display_name": "Python [conda env:base] *",
   "language": "python",
   "name": "conda-base-py"
  },
  "language_info": {
   "codemirror_mode": {
    "name": "ipython",
    "version": 3
   },
   "file_extension": ".py",
   "mimetype": "text/x-python",
   "name": "python",
   "nbconvert_exporter": "python",
   "pygments_lexer": "ipython3",
   "version": "3.12.4"
  }
 },
 "nbformat": 4,
 "nbformat_minor": 5
}
