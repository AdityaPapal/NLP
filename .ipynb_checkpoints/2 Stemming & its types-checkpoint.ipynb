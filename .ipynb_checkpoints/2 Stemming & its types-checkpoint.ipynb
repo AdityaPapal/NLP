{
 "cells": [
  {
   "cell_type": "markdown",
   "id": "44194c79-aba4-4534-819b-74ddf61c67b3",
   "metadata": {},
   "source": [
    "# Stemming"
   ]
  },
  {
   "cell_type": "code",
   "execution_count": 3,
   "id": "fe9e6791-d352-461a-b536-34766bc08a68",
   "metadata": {},
   "outputs": [],
   "source": [
    "## Classification Problem\n",
    "## Comments of product is a positive review or negative review\n",
    "## Reviews----> eating, eat,eaten [going,gone,goes]--->go\n",
    "\n",
    "words=[\"eating\",\"eats\",\"eaten\",\"writing\",\"writes\",\"programming\",\"programs\",\"history\",\"finally\",\"finalized\"]"
   ]
  },
  {
   "cell_type": "code",
   "execution_count": 5,
   "id": "1344278f-1204-4f3c-b119-1e8ea5dbbb36",
   "metadata": {},
   "outputs": [
    {
     "data": {
      "text/plain": [
       "['eating',\n",
       " 'eats',\n",
       " 'eaten',\n",
       " 'writing',\n",
       " 'writes',\n",
       " 'programming',\n",
       " 'programs',\n",
       " 'history',\n",
       " 'finally',\n",
       " 'finalized']"
      ]
     },
     "execution_count": 5,
     "metadata": {},
     "output_type": "execute_result"
    }
   ],
   "source": [
    "words"
   ]
  },
  {
   "cell_type": "markdown",
   "id": "a4efd72e-d3ca-4bf8-8fea-1253f7722039",
   "metadata": {},
   "source": [
    "# porterStemmer"
   ]
  },
  {
   "cell_type": "code",
   "execution_count": 8,
   "id": "61c194cf-33b9-4693-9220-b287a4ce94e8",
   "metadata": {},
   "outputs": [],
   "source": [
    "from nltk.stem import PorterStemmer"
   ]
  },
  {
   "cell_type": "code",
   "execution_count": 12,
   "id": "af694b7a-90f6-46ef-8aef-f332f6fcb592",
   "metadata": {},
   "outputs": [],
   "source": [
    "stemming = PorterStemmer()"
   ]
  },
  {
   "cell_type": "code",
   "execution_count": 14,
   "id": "5077c121-0e44-408b-a5a7-184922ab20e6",
   "metadata": {},
   "outputs": [],
   "source": [
    "stemed_word = [ f\"{i} ----> {stemming.stem(i) }\" for i in words]"
   ]
  },
  {
   "cell_type": "code",
   "execution_count": 16,
   "id": "4ac0e248-1fc6-451e-bc53-39131dd78ffa",
   "metadata": {},
   "outputs": [
    {
     "data": {
      "text/plain": [
       "['eating ----> eat',\n",
       " 'eats ----> eat',\n",
       " 'eaten ----> eaten',\n",
       " 'writing ----> write',\n",
       " 'writes ----> write',\n",
       " 'programming ----> program',\n",
       " 'programs ----> program',\n",
       " 'history ----> histori',\n",
       " 'finally ----> final',\n",
       " 'finalized ----> final']"
      ]
     },
     "execution_count": 16,
     "metadata": {},
     "output_type": "execute_result"
    }
   ],
   "source": [
    "stemed_word"
   ]
  },
  {
   "cell_type": "markdown",
   "id": "8787c5ff-7e2e-4619-b87b-07347353961d",
   "metadata": {},
   "source": [
    "# RegexpStemmer class\n",
    "\n",
    "NLTK has RegexpStemmer class with the help of which we can easily implement Regular Expression Stemmer algorithms. It basically takes a single regular expression and removes any prefix or suffix that matches the expression. Let us see an example"
   ]
  },
  {
   "cell_type": "code",
   "execution_count": 20,
   "id": "0609d80c-53c8-44f1-ba29-08e12b3ca3ad",
   "metadata": {},
   "outputs": [],
   "source": [
    "from nltk.stem import RegexpStemmer"
   ]
  },
  {
   "cell_type": "code",
   "execution_count": 24,
   "id": "0b9e66a8-b156-4f9a-92fe-f10a54d8e653",
   "metadata": {},
   "outputs": [],
   "source": [
    "reg_stem = RegexpStemmer('ing$|s$|e$|able$', min=4)"
   ]
  },
  {
   "cell_type": "code",
   "execution_count": 28,
   "id": "c1ee3e26-4bd5-45e4-9f5f-9fdf4cefd085",
   "metadata": {},
   "outputs": [
    {
     "data": {
      "text/plain": [
       "'eat'"
      ]
     },
     "execution_count": 28,
     "metadata": {},
     "output_type": "execute_result"
    }
   ],
   "source": [
    "reg_stem.stem('eating')"
   ]
  },
  {
   "cell_type": "code",
   "execution_count": 30,
   "id": "5b9b0a62-d5d5-44c0-94c6-bc6391e0756c",
   "metadata": {},
   "outputs": [
    {
     "data": {
      "text/plain": [
       "'ingeat'"
      ]
     },
     "execution_count": 30,
     "metadata": {},
     "output_type": "execute_result"
    }
   ],
   "source": [
    "reg_stem.stem('ingeating')"
   ]
  },
  {
   "cell_type": "markdown",
   "id": "bc337f2b-c974-404b-8871-e78da0032b7d",
   "metadata": {},
   "source": [
    "# SnowBall Stemmer\n",
    "\n",
    "It is a stemming algorithm which is also known as the Porter2 stemming algorithm as it is a better version of the Porter Stemmer since some issues of it were fixed in this stemmer."
   ]
  },
  {
   "cell_type": "code",
   "execution_count": 34,
   "id": "6955a804-b3b6-45e6-80e0-20eedaeb53b9",
   "metadata": {},
   "outputs": [],
   "source": [
    "from nltk.stem import SnowballStemmer"
   ]
  },
  {
   "cell_type": "code",
   "execution_count": 38,
   "id": "0a6a5166-ef03-4cba-90c8-ee82a908a2ac",
   "metadata": {},
   "outputs": [],
   "source": [
    "snow_stem = SnowballStemmer('english')"
   ]
  },
  {
   "cell_type": "code",
   "execution_count": 44,
   "id": "1543e008-6a37-4b6d-811b-97b6d9ad9dcb",
   "metadata": {},
   "outputs": [
    {
     "name": "stdout",
     "output_type": "stream",
     "text": [
      "eating---->eat\n",
      "eats---->eat\n",
      "eaten---->eaten\n",
      "writing---->write\n",
      "writes---->write\n",
      "programming---->program\n",
      "programs---->program\n",
      "history---->histori\n",
      "finally---->final\n",
      "finalized---->final\n"
     ]
    }
   ],
   "source": [
    "for word in words:\n",
    "    print(word+\"---->\"+snow_stem.stem(word))"
   ]
  },
  {
   "cell_type": "code",
   "execution_count": 46,
   "id": "35e2c54d-63ed-49f2-8d3a-a5cd2063f0ba",
   "metadata": {},
   "outputs": [
    {
     "data": {
      "text/plain": [
       "('fairli', 'sportingli')"
      ]
     },
     "execution_count": 46,
     "metadata": {},
     "output_type": "execute_result"
    }
   ],
   "source": [
    "# using porterstemmer\n",
    "stemming.stem(\"fairly\"),stemming.stem(\"sportingly\")"
   ]
  },
  {
   "cell_type": "code",
   "execution_count": 48,
   "id": "5888766f-b3b0-4884-8584-9256467447bf",
   "metadata": {},
   "outputs": [
    {
     "data": {
      "text/plain": [
       "('fair', 'sportingli')"
      ]
     },
     "execution_count": 48,
     "metadata": {},
     "output_type": "execute_result"
    }
   ],
   "source": [
    "# using snowball Stemmer\n",
    "snow_stem.stem(\"fairly\"),stemming.stem(\"sportingly\")"
   ]
  },
  {
   "cell_type": "code",
   "execution_count": null,
   "id": "b6197013-478f-4de1-8c3e-0ff3334b2381",
   "metadata": {},
   "outputs": [],
   "source": []
  }
 ],
 "metadata": {
  "kernelspec": {
   "display_name": "Python [conda env:base] *",
   "language": "python",
   "name": "conda-base-py"
  },
  "language_info": {
   "codemirror_mode": {
    "name": "ipython",
    "version": 3
   },
   "file_extension": ".py",
   "mimetype": "text/x-python",
   "name": "python",
   "nbconvert_exporter": "python",
   "pygments_lexer": "ipython3",
   "version": "3.12.4"
  }
 },
 "nbformat": 4,
 "nbformat_minor": 5
}
